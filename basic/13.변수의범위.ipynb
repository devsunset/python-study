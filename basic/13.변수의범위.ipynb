{
 "cells": [
  {
   "cell_type": "code",
   "execution_count": 4,
   "metadata": {},
   "outputs": [
    {
     "name": "stdout",
     "output_type": "stream",
     "text": [
      "지역: 7\n",
      "전역: 15\n"
     ]
    }
   ],
   "source": [
    "a = 10\n",
    "b = 5\n",
    "\n",
    "def add():\n",
    "    a = 5\n",
    "    b = 2\n",
    "    print(\"함수안:\",a+b)\n",
    "\n",
    "add()\n",
    "print(\"함수밖:\",a+b)"
   ]
  },
  {
   "cell_type": "code",
   "execution_count": 5,
   "metadata": {},
   "outputs": [
    {
     "name": "stdout",
     "output_type": "stream",
     "text": [
      "지역: 7\n",
      "전역: 7\n"
     ]
    }
   ],
   "source": [
    "a = 10\n",
    "b = 5\n",
    "\n",
    "def add():\n",
    "    global a,b\n",
    "    a = 5\n",
    "    b = 2\n",
    "    print(\"함수안:\",a+b)\n",
    "\n",
    "add()\n",
    "print(\"함수밖:\",a+b)"
   ]
  }
 ],
 "metadata": {
  "kernelspec": {
   "display_name": "Python 3.9.12 ('base')",
   "language": "python",
   "name": "python3"
  },
  "language_info": {
   "codemirror_mode": {
    "name": "ipython",
    "version": 3
   },
   "file_extension": ".py",
   "mimetype": "text/x-python",
   "name": "python",
   "nbconvert_exporter": "python",
   "pygments_lexer": "ipython3",
   "version": "3.9.12"
  },
  "orig_nbformat": 4,
  "vscode": {
   "interpreter": {
    "hash": "2becc19e722ae5f52ce0b82707f375a289b99018caee7e23c9bf5599b4fec45b"
   }
  }
 },
 "nbformat": 4,
 "nbformat_minor": 2
}
