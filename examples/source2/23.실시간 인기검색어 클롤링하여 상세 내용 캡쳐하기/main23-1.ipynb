{
 "cells": [
  {
   "cell_type": "code",
   "execution_count": 1,
   "metadata": {},
   "outputs": [
    {
     "name": "stderr",
     "output_type": "stream",
     "text": [
      "[WDM] - Downloading: 100%|██████████| 6.21M/6.21M [00:01<00:00, 3.78MB/s]\n",
      "C:\\Users\\jang\\AppData\\Local\\Temp\\ipykernel_3804\\1716444132.py:4: DeprecationWarning: executable_path has been deprecated, please pass in a Service object\n",
      "  driver = webdriver.Chrome(ChromeDriverManager().install())\n"
     ]
    }
   ],
   "source": [
    "from webdriver_manager.chrome import ChromeDriverManager\n",
    "from selenium import webdriver\n",
    "\n",
    "driver = webdriver.Chrome(ChromeDriverManager().install())\n",
    "\n",
    "URL='https://www.google.co.kr'\n",
    "driver.get(url=URL)\n",
    "driver.implicitly_wait(time_to_wait=10)"
   ]
  },
  {
   "cell_type": "code",
   "execution_count": 5,
   "metadata": {},
   "outputs": [],
   "source": [
    "from selenium.webdriver.common.by import By\n",
    "\n",
    "URL='https://signal.bz/news'\n",
    "driver.get(url=URL)\n",
    "driver.implicitly_wait(time_to_wait=10) \n",
    "\n",
    "naver_results = driver.find_elements(By.CSS_SELECTOR, '#app > div > main > div > section > div > section > section:nth-child(2) > div:nth-child(2) > div > div > div > a')\n",
    "\n",
    "\n",
    "#app > div > main > div > section > div > section > section:nth-child(2) > div:nth-child(2) > div > div:nth-child(1) > div:nth-child(1) > a\n",
    "#app > div > main > div > section > div > section > section:nth-child(2) > div:nth-child(2) > div > div:nth-child(2) > div:nth-child(1) > a\n",
    "#app > div > main > div > section > div > section > section:nth-child(2) > div:nth-child(2) > div > div:nth-child(1) > div:nth-child(2) > a\n",
    "#app > div > main > div > section > div > section > section:nth-child(2) > div:nth-child(2) > div > div > div > a\n"
   ]
  },
  {
   "cell_type": "code",
   "execution_count": 12,
   "metadata": {},
   "outputs": [
    {
     "name": "stdout",
     "output_type": "stream",
     "text": [
      "김혜경 경찰 출석\n",
      "https://search.naver.com/search.naver?where=news&sm=tab_jum&query=%EA%B9%80%ED%98%9C%EA%B2%BD%20%EA%B2%BD%EC%B0%B0%20%EC%B6%9C%EC%84%9D\n",
      "서울대작전 유아인 송민호\n",
      "https://search.naver.com/search.naver?where=news&sm=tab_jum&query=%EC%84%9C%EC%9A%B8%EB%8C%80%EC%9E%91%EC%A0%84%20%EC%9C%A0%EC%95%84%EC%9D%B8%20%EC%86%A1%EB%AF%BC%ED%98%B8\n",
      "결혼 이기우 신부는\n",
      "https://search.naver.com/search.naver?where=news&sm=tab_jum&query=%EA%B2%B0%ED%98%BC%20%EC%9D%B4%EA%B8%B0%EC%9A%B0%20%EC%8B%A0%EB%B6%80%EB%8A%94\n",
      "처서\n",
      "https://search.naver.com/search.naver?where=news&sm=tab_jum&query=%EC%B2%98%EC%84%9C\n",
      "2분기 가계빚 사상\n",
      "https://search.naver.com/search.naver?where=news&sm=tab_jum&query=2%EB%B6%84%EA%B8%B0%20%EA%B0%80%EA%B3%84%EB%B9%9A%20%EC%82%AC%EC%83%81\n",
      "아이브\n",
      "https://search.naver.com/search.naver?where=news&sm=tab_jum&query=%EC%95%84%EC%9D%B4%EB%B8%8C\n",
      "박시은\n",
      "https://search.naver.com/search.naver?where=news&sm=tab_jum&query=%EB%B0%95%EC%8B%9C%EC%9D%80\n",
      "한혜진\n",
      "https://search.naver.com/search.naver?where=news&sm=tab_jum&query=%ED%95%9C%ED%98%9C%EC%A7%84\n",
      "이준석\n",
      "https://search.naver.com/search.naver?where=news&sm=tab_jum&query=%EC%9D%B4%EC%A4%80%EC%84%9D\n",
      "인상 5일 공청회\n",
      "https://search.naver.com/search.naver?where=news&sm=tab_jum&query=%EC%9D%B8%EC%83%81%205%EC%9D%BC%20%EA%B3%B5%EC%B2%AD%ED%9A%8C\n"
     ]
    }
   ],
   "source": [
    "naver_list = []\n",
    "link_list = []\n",
    "for naver_result in naver_results:\n",
    "    print(naver_result.text.split(\"\\n\")[1])\n",
    "    print(naver_result.get_attribute(\"href\"))\n",
    "    naver_list.append(naver_result.text.split(\"\\n\")[1])\n",
    "    link_list.append(naver_result.get_attribute(\"href\"))"
   ]
  },
  {
   "cell_type": "code",
   "execution_count": 16,
   "metadata": {},
   "outputs": [
    {
     "name": "stdout",
     "output_type": "stream",
     "text": [
      "김혜경 경찰 출석 https://search.naver.com/search.naver?where=news&sm=tab_jum&query=%EA%B9%80%ED%98%9C%EA%B2%BD%20%EA%B2%BD%EC%B0%B0%20%EC%B6%9C%EC%84%9D\n",
      "서울대작전 유아인 송민호 https://search.naver.com/search.naver?where=news&sm=tab_jum&query=%EC%84%9C%EC%9A%B8%EB%8C%80%EC%9E%91%EC%A0%84%20%EC%9C%A0%EC%95%84%EC%9D%B8%20%EC%86%A1%EB%AF%BC%ED%98%B8\n",
      "결혼 이기우 신부는 https://search.naver.com/search.naver?where=news&sm=tab_jum&query=%EA%B2%B0%ED%98%BC%20%EC%9D%B4%EA%B8%B0%EC%9A%B0%20%EC%8B%A0%EB%B6%80%EB%8A%94\n",
      "처서 https://search.naver.com/search.naver?where=news&sm=tab_jum&query=%EC%B2%98%EC%84%9C\n",
      "2분기 가계빚 사상 https://search.naver.com/search.naver?where=news&sm=tab_jum&query=2%EB%B6%84%EA%B8%B0%20%EA%B0%80%EA%B3%84%EB%B9%9A%20%EC%82%AC%EC%83%81\n",
      "아이브 https://search.naver.com/search.naver?where=news&sm=tab_jum&query=%EC%95%84%EC%9D%B4%EB%B8%8C\n",
      "박시은 https://search.naver.com/search.naver?where=news&sm=tab_jum&query=%EB%B0%95%EC%8B%9C%EC%9D%80\n",
      "한혜진 https://search.naver.com/search.naver?where=news&sm=tab_jum&query=%ED%95%9C%ED%98%9C%EC%A7%84\n",
      "이준석 https://search.naver.com/search.naver?where=news&sm=tab_jum&query=%EC%9D%B4%EC%A4%80%EC%84%9D\n",
      "인상 5일 공청회 https://search.naver.com/search.naver?where=news&sm=tab_jum&query=%EC%9D%B8%EC%83%81%205%EC%9D%BC%20%EA%B3%B5%EC%B2%AD%ED%9A%8C\n"
     ]
    }
   ],
   "source": [
    "for i,link in enumerate(link_list):\n",
    "    print(naver_list[i],link)\n",
    "    driver.get(url=link)\n",
    "    driver.implicitly_wait(time_to_wait=10) \n",
    "    driver.save_screenshot(str(i+1) + '_' + naver_list[i] + \".png\")"
   ]
  }
 ],
 "metadata": {
  "kernelspec": {
   "display_name": "Python 3.9.12 ('base')",
   "language": "python",
   "name": "python3"
  },
  "language_info": {
   "codemirror_mode": {
    "name": "ipython",
    "version": 3
   },
   "file_extension": ".py",
   "mimetype": "text/x-python",
   "name": "python",
   "nbconvert_exporter": "python",
   "pygments_lexer": "ipython3",
   "version": "3.9.12"
  },
  "orig_nbformat": 4,
  "vscode": {
   "interpreter": {
    "hash": "2becc19e722ae5f52ce0b82707f375a289b99018caee7e23c9bf5599b4fec45b"
   }
  }
 },
 "nbformat": 4,
 "nbformat_minor": 2
}
