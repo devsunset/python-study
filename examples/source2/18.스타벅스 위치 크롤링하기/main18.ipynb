{
 "cells": [
  {
   "cell_type": "code",
   "execution_count": 2,
   "metadata": {},
   "outputs": [
    {
     "name": "stderr",
     "output_type": "stream",
     "text": [
      "[WDM] - Downloading: 100%|██████████| 6.21M/6.21M [00:00<00:00, 28.4MB/s]\n",
      "C:\\Users\\janghome\\AppData\\Local\\Temp\\ipykernel_12868\\1981231082.py:4: DeprecationWarning: executable_path has been deprecated, please pass in a Service object\n",
      "  driver = webdriver.Chrome(ChromeDriverManager().install())\n"
     ]
    }
   ],
   "source": [
    "from webdriver_manager.chrome import ChromeDriverManager\n",
    "from selenium import webdriver\n",
    "from selenium.webdriver.common.by import By\n",
    "import time\n",
    "\n",
    "driver = webdriver.Chrome(ChromeDriverManager().install())\n",
    "\n",
    "URL='https://www.starbucks.co.kr/store/store_map.do?disp=locale'\n",
    "driver.get(url=URL)\n",
    "\n",
    "driver.implicitly_wait(time_to_wait=10)"
   ]
  },
  {
   "cell_type": "code",
   "execution_count": 95,
   "metadata": {},
   "outputs": [
    {
     "name": "stdout",
     "output_type": "stream",
     "text": [
      "서울 지역클릭\n",
      "전체버튼 클릭\n",
      "서울 데이터수집중\n",
      "지역검색버튼 클릭\n",
      "경기 지역클릭\n",
      "전체버튼 클릭\n",
      "경기 데이터수집중\n",
      "지역검색버튼 클릭\n",
      "광주 지역클릭\n",
      "전체버튼 클릭\n",
      "광주 데이터수집중\n",
      "지역검색버튼 클릭\n",
      "대구 지역클릭\n",
      "전체버튼 클릭\n",
      "대구 데이터수집중\n",
      "지역검색버튼 클릭\n",
      "대전 지역클릭\n",
      "전체버튼 클릭\n",
      "대전 데이터수집중\n",
      "지역검색버튼 클릭\n",
      "부산 지역클릭\n",
      "전체버튼 클릭\n",
      "부산 데이터수집중\n",
      "지역검색버튼 클릭\n",
      "울산 지역클릭\n",
      "전체버튼 클릭\n",
      "울산 데이터수집중\n",
      "지역검색버튼 클릭\n",
      "인천 지역클릭\n",
      "전체버튼 클릭\n",
      "인천 데이터수집중\n",
      "지역검색버튼 클릭\n",
      "강원 지역클릭\n",
      "전체버튼 클릭\n",
      "강원 데이터수집중\n",
      "지역검색버튼 클릭\n",
      "경남 지역클릭\n",
      "전체버튼 클릭\n",
      "경남 데이터수집중\n",
      "지역검색버튼 클릭\n",
      "경북 지역클릭\n",
      "전체버튼 클릭\n",
      "경북 데이터수집중\n",
      "지역검색버튼 클릭\n",
      "전남 지역클릭\n",
      "전체버튼 클릭\n",
      "전남 데이터수집중\n",
      "지역검색버튼 클릭\n",
      "전북 지역클릭\n",
      "전체버튼 클릭\n",
      "전북 데이터수집중\n",
      "지역검색버튼 클릭\n",
      "충남 지역클릭\n",
      "전체버튼 클릭\n",
      "충남 데이터수집중\n",
      "지역검색버튼 클릭\n",
      "충북 지역클릭\n",
      "전체버튼 클릭\n",
      "충북 데이터수집중\n",
      "지역검색버튼 클릭\n",
      "제주 지역클릭\n",
      "전체버튼 클릭\n",
      "제주 데이터수집중\n",
      "지역검색버튼 클릭\n",
      "세종 지역클릭\n",
      "전체버튼 클릭\n",
      "전체버튼이 없어 계속진행합니다\n",
      "세종 데이터수집중\n",
      "지역검색버튼 클릭\n"
     ]
    }
   ],
   "source": [
    "\n",
    "location_search = driver.find_element(By.CSS_SELECTOR,\"#container > div > form > fieldset > div > section > article.find_store_cont > article > header.loca_search > h3 > a\")\n",
    "location_list = driver.find_elements(By.CSS_SELECTOR,\"#container > div > form > fieldset > div > section > article.find_store_cont > article > article > div.loca_step1 > div.loca_step1_cont > ul > li > a\")\n",
    "\n",
    "data_location_list = []\n",
    "data_name_list = []\n",
    "data_lat_list = []\n",
    "data_long_list = []\n",
    "for location in location_list:\n",
    "    지역 = location.text\n",
    "    print(지역,\"지역클릭\")\n",
    "    location.click()\n",
    "    time.sleep(2.0)\n",
    "    \n",
    "    try:\n",
    "        print(\"전체버튼 클릭\")\n",
    "        driver.find_element(By.CSS_SELECTOR,\"#mCSB_2_container > ul > li:nth-child(1) > a\").click()\n",
    "        time.sleep(3.0)\n",
    "    except:\n",
    "        print(\"전체버튼이 없어 계속진행합니다\")\n",
    "        time.sleep(3.0)\n",
    "    \n",
    "    print(지역,\"데이터수집중\")\n",
    "    매장_list = driver.find_elements(By.CSS_SELECTOR,\"#mCSB_3_container > ul > li\")\n",
    "    for 매장 in 매장_list:\n",
    "        data_location_list.append(지역)\n",
    "        data_name_list.append(매장.get_attribute(\"data-name\"))\n",
    "        data_lat_list.append(매장.get_attribute(\"data-lat\"))\n",
    "        data_long_list.append(매장.get_attribute(\"data-long\"))\n",
    "    \n",
    "    print(\"지역검색버튼 클릭\")\n",
    "    location_search.click()\n",
    "    time.sleep(2.0)"
   ]
  },
  {
   "cell_type": "code",
   "execution_count": 99,
   "metadata": {},
   "outputs": [],
   "source": [
    "import pandas as pd\n",
    "df = pd.DataFrame()\n",
    "\n",
    "# df[\"이름\"]\n",
    "# print(data_location_list)\n",
    "# print(data_name_list)\n",
    "# print(data_lat_list)\n",
    "# print(data_long_list)\n",
    "\n",
    "df[\"지역\"] = data_location_list\n",
    "df[\"이름\"] = data_name_list\n",
    "df[\"lat\"] = data_lat_list\n",
    "df[\"long\"] = data_long_list\n",
    "\n",
    "df.to_excel(\"스타벅스위치.xlsx\")\n"
   ]
  }
 ],
 "metadata": {
  "kernelspec": {
   "display_name": "Python 3.9.12 ('base')",
   "language": "python",
   "name": "python3"
  },
  "language_info": {
   "codemirror_mode": {
    "name": "ipython",
    "version": 3
   },
   "file_extension": ".py",
   "mimetype": "text/x-python",
   "name": "python",
   "nbconvert_exporter": "python",
   "pygments_lexer": "ipython3",
   "version": "3.9.12"
  },
  "orig_nbformat": 4,
  "vscode": {
   "interpreter": {
    "hash": "2becc19e722ae5f52ce0b82707f375a289b99018caee7e23c9bf5599b4fec45b"
   }
  }
 },
 "nbformat": 4,
 "nbformat_minor": 2
}
